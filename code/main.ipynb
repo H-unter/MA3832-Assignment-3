{
 "cells": [
  {
   "cell_type": "markdown",
   "id": "b6924d8e-f21c-4f8a-aa11-eaa8a791c675",
   "metadata": {},
   "source": [
    "# Imports"
   ]
  },
  {
   "cell_type": "code",
   "execution_count": 10,
   "id": "832b4543-c435-4c20-abf4-972acc7a3378",
   "metadata": {
    "execution": {
     "iopub.execute_input": "2025-08-15T09:11:38.294386Z",
     "iopub.status.busy": "2025-08-15T09:11:38.293926Z",
     "iopub.status.idle": "2025-08-15T09:11:38.308854Z",
     "shell.execute_reply": "2025-08-15T09:11:38.307497Z",
     "shell.execute_reply.started": "2025-08-15T09:11:38.294346Z"
    }
   },
   "outputs": [
    {
     "data": {
      "text/plain": [
       "'2.245.0'"
      ]
     },
     "execution_count": 10,
     "metadata": {},
     "output_type": "execute_result"
    }
   ],
   "source": [
    "import boto3\n",
    "import sagemaker\n",
    "from sagemaker import Session\n",
    "from sagemaker.session import TrainingInput\n",
    "from sagemaker.tensorflow import TensorFlow as tf\n",
    "from sagemaker.tensorflow import TensorFlowModel\n",
    "from sagemaker.tuner import HyperparameterTuner, IntegerParameter, ContinuousParameter, CategoricalParameter\n",
    "from sagemaker.serializers import JSONSerializer\n",
    "from sagemaker.deserializers import JSONDeserializer\n",
    "import tensorflow\n",
    "import s3fs\n",
    "import numpy as np\n",
    "import json\n",
    "import time\n",
    "RANDOM_SEED = 0\n",
    "sagemaker.__version__"
   ]
  },
  {
   "cell_type": "markdown",
   "id": "2a06fd73-eff5-46a8-a976-799a93a98287",
   "metadata": {
    "execution": {
     "iopub.execute_input": "2025-08-15T03:54:51.411970Z",
     "iopub.status.busy": "2025-08-15T03:54:51.411133Z",
     "iopub.status.idle": "2025-08-15T03:54:51.414957Z",
     "shell.execute_reply": "2025-08-15T03:54:51.414149Z",
     "shell.execute_reply.started": "2025-08-15T03:54:51.411940Z"
    }
   },
   "source": [
    "# Sagemaker Initialization"
   ]
  },
  {
   "cell_type": "code",
   "execution_count": 23,
   "id": "ef827c86-fae9-4009-8752-518a4f19b9c0",
   "metadata": {
    "execution": {
     "iopub.execute_input": "2025-08-15T10:14:54.636317Z",
     "iopub.status.busy": "2025-08-15T10:14:54.635933Z",
     "iopub.status.idle": "2025-08-15T10:14:55.499391Z",
     "shell.execute_reply": "2025-08-15T10:14:55.498435Z",
     "shell.execute_reply.started": "2025-08-15T10:14:54.636293Z"
    }
   },
   "outputs": [
    {
     "name": "stdout",
     "output_type": "stream",
     "text": [
      "S3 Bucket: fsagemaker-ap-southeast-2-838084669510\n"
     ]
    }
   ],
   "source": [
    "fs = s3fs.S3FileSystem()\n",
    "sess = sagemaker.Session()\n",
    "role = sagemaker.get_execution_role()\n",
    "s3 = boto3.client(\"s3\")\n",
    "bucket = sess.default_bucket()   # will be sagemaker-ap-southeast-2-838084669510\n",
    "prefix = \"aiornot\"\n",
    "print(f\"S3 Bucket: f{bucket}\")\n",
    "\n",
    "s3_small_train_path = f\"s3://{bucket}/{prefix}/small_train/small_train.npz\"\n",
    "s3_train_path = f\"s3://{bucket}/{prefix}/train/train.npz\"\n",
    "s3_test_path = f\"s3://{bucket}/{prefix}/test/test.npz\"\n",
    "s3_holdout_test_path = f\"s3://{bucket}/{prefix}/holdout_test/holdout_test.npz\"\n",
    "s3_output_location = f\"s3://{bucket}/{prefix}/model_output\"\n",
    "\n",
    "small_train_input = TrainingInput(s3_small_train_path, content_type=\"application/x-npz\")\n",
    "train_input = TrainingInput(s3_train_path, content_type=\"application/x-npz\")\n",
    "test_input = TrainingInput(s3_test_path, content_type=\"application/x-npz\")\n"
   ]
  },
  {
   "cell_type": "markdown",
   "id": "5743c113-d98c-499b-ab43-1754213bd726",
   "metadata": {},
   "source": [
    "# Hyperparameter Tuning on smaller training set"
   ]
  },
  {
   "cell_type": "code",
   "execution_count": 47,
   "id": "26f94014-1f2f-4021-a1f6-070f22186d77",
   "metadata": {
    "execution": {
     "iopub.execute_input": "2025-08-15T11:54:54.479660Z",
     "iopub.status.busy": "2025-08-15T11:54:54.479219Z",
     "iopub.status.idle": "2025-08-15T13:27:38.867351Z",
     "shell.execute_reply": "2025-08-15T13:27:38.866513Z",
     "shell.execute_reply.started": "2025-08-15T11:54:54.479631Z"
    }
   },
   "outputs": [
    {
     "name": "stderr",
     "output_type": "stream",
     "text": [
      "INFO:sagemaker.image_uris:image_uri is not presented, retrieving image_uri based on instance_type, framework etc.\n",
      "WARNING:sagemaker.estimator:No finished training job found associated with this estimator. Please make sure this estimator is only used for building workflow config\n",
      "INFO:sagemaker.image_uris:image_uri is not presented, retrieving image_uri based on instance_type, framework etc.\n",
      "INFO:sagemaker:Creating hyperparameter tuning job with name: ph-17-250815-1154\n"
     ]
    },
    {
     "name": "stdout",
     "output_type": "stream",
     "text": [
      ".................................................................................................................................................................................................................................................................................................................................................................................................................................................................................................................................................................................................................................................................................................................................................................................................................................................................................................................................................................................................................................................................................................................................!\n"
     ]
    }
   ],
   "source": [
    "estimator = tf(\n",
    "    entry_point=\"train.py\",\n",
    "    source_dir=\"src\",  \n",
    "    role=role,\n",
    "    use_spot_instances=True,  # save money\n",
    "    instance_type=\"ml.c5.2xlarge\",\n",
    "    instance_count=1,\n",
    "    framework_version=\"2.14\",\n",
    "    py_version=\"py310\",\n",
    "    hyperparameters={\n",
    "        \"epochs\": 3,\n",
    "        \"height\": 512,\n",
    "        \"width\": 512,\n",
    "        \"channels\": 3\n",
    "    },\n",
    "    output_path=s3_output_location\n",
    ")\n",
    "\n",
    "hyperparameter_ranges = {\n",
    "    \"learning-rate\": ContinuousParameter(1e-4, 1e-2, scaling_type=\"Logarithmic\"),\n",
    "    \"dropout-rate\": ContinuousParameter(0.0, 0.5),                 # if use-dropout=true\n",
    "    \"batch-size\": IntegerParameter(4, 8),                         # change range to suit memory\n",
    "    \"conv1-filters\": IntegerParameter(16, 128),\n",
    "    \"conv2-filters\": IntegerParameter(32, 256),\n",
    "    \"dense-units\": IntegerParameter(64, 512),\n",
    "    \"pooling\": CategoricalParameter([\"max\", \"avg\"]),\n",
    "    \"use-dropout\": CategoricalParameter([\"true\", \"false\"]),\n",
    "    \"optimizer\": CategoricalParameter([\"adam\", \"adagrad\"]),\n",
    "}\n",
    "\n",
    "metric_definitions = [\n",
    "    {\"Name\": \"val_auc\",       \"Regex\": \"val_auc: ([0-9\\\\.]+)\"},\n",
    "    {\"Name\": \"val_f1\",        \"Regex\": \"val_f1: ([0-9\\\\.]+)\"},\n",
    "    {\"Name\": \"val_precision\", \"Regex\": \"val_precision: ([0-9\\\\.]+)\"},\n",
    "    {\"Name\": \"val_recall\",    \"Regex\": \"val_recall: ([0-9\\\\.]+)\"},\n",
    "    {\"Name\": \"val_accuracy\",  \"Regex\": \"val_accuracy: ([0-9\\\\.]+)\"},\n",
    "]\n",
    "\n",
    "tuner = HyperparameterTuner(\n",
    "    estimator=estimator,\n",
    "    objective_metric_name=\"val_f1\",\n",
    "    strategy='Hyperband',\n",
    "    hyperparameter_ranges=hyperparameter_ranges,\n",
    "    metric_definitions=metric_definitions,\n",
    "    max_parallel_jobs=5,\n",
    "    objective_type=\"Maximize\",\n",
    "    # early_stopping_type=\"Auto\", # not supported for hyperband strategy, since it gets rid of unpromising trials itself\n",
    "    max_jobs=20,\n",
    "    base_tuning_job_name=\"ph-17\",\n",
    ")\n",
    "\n",
    "tuner.fit({\n",
    "    \"train\": small_train_input,\n",
    "    \"test\": test_input,\n",
    "})\n"
   ]
  },
  {
   "cell_type": "markdown",
   "id": "04082aa8-4df9-4fba-a6d7-45c02784468a",
   "metadata": {},
   "source": [
    "# Get Best Hyperparameters and train on larger set"
   ]
  },
  {
   "cell_type": "code",
   "execution_count": 48,
   "id": "f8634f45-61bf-4821-8a27-63faefb45b31",
   "metadata": {
    "execution": {
     "iopub.execute_input": "2025-08-15T14:36:05.187794Z",
     "iopub.status.busy": "2025-08-15T14:36:05.187433Z",
     "iopub.status.idle": "2025-08-15T14:36:05.448778Z",
     "shell.execute_reply": "2025-08-15T14:36:05.447522Z",
     "shell.execute_reply.started": "2025-08-15T14:36:05.187763Z"
    }
   },
   "outputs": [
    {
     "data": {
      "text/html": [
       "<pre style=\"white-space:pre;overflow-x:auto;line-height:normal;font-family:Menlo,'DejaVu Sans Mono',consolas,'Courier New',monospace\"><span style=\"color: #ff0000; text-decoration-color: #ff0000\">╭─────────────────────────────── </span><span style=\"color: #ff0000; text-decoration-color: #ff0000; font-weight: bold\">Traceback </span><span style=\"color: #ff7f7f; text-decoration-color: #ff7f7f; font-weight: bold\">(most recent call last)</span><span style=\"color: #ff0000; text-decoration-color: #ff0000\"> ────────────────────────────────╮</span>\n",
       "<span style=\"color: #ff0000; text-decoration-color: #ff0000\">│</span> in &lt;module&gt;:3                                                                                    <span style=\"color: #ff0000; text-decoration-color: #ff0000\">│</span>\n",
       "<span style=\"color: #ff0000; text-decoration-color: #ff0000\">│</span>                                                                                                  <span style=\"color: #ff0000; text-decoration-color: #ff0000\">│</span>\n",
       "<span style=\"color: #ff0000; text-decoration-color: #ff0000\">│</span>   <span style=\"color: #7f7f7f; text-decoration-color: #7f7f7f\">1 </span>sm = boto3.client(<span style=\"color: #808000; text-decoration-color: #808000\">\"sagemaker\"</span>)                                                               <span style=\"color: #ff0000; text-decoration-color: #ff0000\">│</span>\n",
       "<span style=\"color: #ff0000; text-decoration-color: #ff0000\">│</span>   <span style=\"color: #7f7f7f; text-decoration-color: #7f7f7f\">2 </span>training_job_name = <span style=\"color: #808000; text-decoration-color: #808000\">\"ph-17-250815-1154\"</span>                                                      <span style=\"color: #ff0000; text-decoration-color: #ff0000\">│</span>\n",
       "<span style=\"color: #ff0000; text-decoration-color: #ff0000\">│</span> <span style=\"color: #800000; text-decoration-color: #800000\">❱ </span>3 tj = <span style=\"font-weight: bold; text-decoration: underline\">sm.describe_training_job(TrainingJobName=training_job_name)</span>                             <span style=\"color: #ff0000; text-decoration-color: #ff0000\">│</span>\n",
       "<span style=\"color: #ff0000; text-decoration-color: #ff0000\">│</span>   <span style=\"color: #7f7f7f; text-decoration-color: #7f7f7f\">4 </span>                                                                                             <span style=\"color: #ff0000; text-decoration-color: #ff0000\">│</span>\n",
       "<span style=\"color: #ff0000; text-decoration-color: #ff0000\">│</span>                                                                                                  <span style=\"color: #ff0000; text-decoration-color: #ff0000\">│</span>\n",
       "<span style=\"color: #ff0000; text-decoration-color: #ff0000\">│</span> <span style=\"color: #7f7f7f; text-decoration-color: #7f7f7f\">/opt/conda/lib/python3.12/site-packages/botocore/</span><span style=\"font-weight: bold\">client.py</span>:569 in _api_call                      <span style=\"color: #ff0000; text-decoration-color: #ff0000\">│</span>\n",
       "<span style=\"color: #ff0000; text-decoration-color: #ff0000\">│</span>                                                                                                  <span style=\"color: #ff0000; text-decoration-color: #ff0000\">│</span>\n",
       "<span style=\"color: #ff0000; text-decoration-color: #ff0000\">│</span>   <span style=\"color: #7f7f7f; text-decoration-color: #7f7f7f\"> 566 </span><span style=\"color: #7f7f7f; text-decoration-color: #7f7f7f\">│   │   │   │   │   </span><span style=\"color: #808000; text-decoration-color: #808000\">f\"{</span>py_operation_name<span style=\"color: #808000; text-decoration-color: #808000\">}() only accepts keyword arguments.\"</span>              <span style=\"color: #ff0000; text-decoration-color: #ff0000\">│</span>\n",
       "<span style=\"color: #ff0000; text-decoration-color: #ff0000\">│</span>   <span style=\"color: #7f7f7f; text-decoration-color: #7f7f7f\"> 567 </span><span style=\"color: #7f7f7f; text-decoration-color: #7f7f7f\">│   │   │   │   </span>)                                                                         <span style=\"color: #ff0000; text-decoration-color: #ff0000\">│</span>\n",
       "<span style=\"color: #ff0000; text-decoration-color: #ff0000\">│</span>   <span style=\"color: #7f7f7f; text-decoration-color: #7f7f7f\"> 568 </span><span style=\"color: #7f7f7f; text-decoration-color: #7f7f7f\">│   │   │   </span><span style=\"color: #7f7f7f; text-decoration-color: #7f7f7f\"># The \"self\" in this scope is referring to the BaseClient.</span>                    <span style=\"color: #ff0000; text-decoration-color: #ff0000\">│</span>\n",
       "<span style=\"color: #ff0000; text-decoration-color: #ff0000\">│</span> <span style=\"color: #800000; text-decoration-color: #800000\">❱ </span> 569 <span style=\"color: #7f7f7f; text-decoration-color: #7f7f7f\">│   │   │   </span><span style=\"color: #0000ff; text-decoration-color: #0000ff\">return</span> <span style=\"color: #00ffff; text-decoration-color: #00ffff; font-weight: bold; text-decoration: underline\">self</span><span style=\"font-weight: bold; text-decoration: underline\">._make_api_call(operation_name, kwargs)</span>                            <span style=\"color: #ff0000; text-decoration-color: #ff0000\">│</span>\n",
       "<span style=\"color: #ff0000; text-decoration-color: #ff0000\">│</span>   <span style=\"color: #7f7f7f; text-decoration-color: #7f7f7f\"> 570 </span><span style=\"color: #7f7f7f; text-decoration-color: #7f7f7f\">│   │   </span>                                                                                  <span style=\"color: #ff0000; text-decoration-color: #ff0000\">│</span>\n",
       "<span style=\"color: #ff0000; text-decoration-color: #ff0000\">│</span>   <span style=\"color: #7f7f7f; text-decoration-color: #7f7f7f\"> 571 </span><span style=\"color: #7f7f7f; text-decoration-color: #7f7f7f\">│   │   </span>_api_call.<span style=\"color: #ff0000; text-decoration-color: #ff0000\">__name__</span> = <span style=\"color: #00ffff; text-decoration-color: #00ffff\">str</span>(py_operation_name)                                       <span style=\"color: #ff0000; text-decoration-color: #ff0000\">│</span>\n",
       "<span style=\"color: #ff0000; text-decoration-color: #ff0000\">│</span>   <span style=\"color: #7f7f7f; text-decoration-color: #7f7f7f\"> 572 </span>                                                                                          <span style=\"color: #ff0000; text-decoration-color: #ff0000\">│</span>\n",
       "<span style=\"color: #ff0000; text-decoration-color: #ff0000\">│</span>                                                                                                  <span style=\"color: #ff0000; text-decoration-color: #ff0000\">│</span>\n",
       "<span style=\"color: #ff0000; text-decoration-color: #ff0000\">│</span> <span style=\"color: #7f7f7f; text-decoration-color: #7f7f7f\">/opt/conda/lib/python3.12/site-packages/botocore/</span><span style=\"font-weight: bold\">client.py</span>:1023 in _make_api_call                <span style=\"color: #ff0000; text-decoration-color: #ff0000\">│</span>\n",
       "<span style=\"color: #ff0000; text-decoration-color: #ff0000\">│</span>                                                                                                  <span style=\"color: #ff0000; text-decoration-color: #ff0000\">│</span>\n",
       "<span style=\"color: #ff0000; text-decoration-color: #ff0000\">│</span>   <span style=\"color: #7f7f7f; text-decoration-color: #7f7f7f\">1020 </span><span style=\"color: #7f7f7f; text-decoration-color: #7f7f7f\">│   │   │   │   </span><span style=\"color: #808000; text-decoration-color: #808000\">\"Code\"</span>                                                                    <span style=\"color: #ff0000; text-decoration-color: #ff0000\">│</span>\n",
       "<span style=\"color: #ff0000; text-decoration-color: #ff0000\">│</span>   <span style=\"color: #7f7f7f; text-decoration-color: #7f7f7f\">1021 </span><span style=\"color: #7f7f7f; text-decoration-color: #7f7f7f\">│   │   │   </span>)                                                                             <span style=\"color: #ff0000; text-decoration-color: #ff0000\">│</span>\n",
       "<span style=\"color: #ff0000; text-decoration-color: #ff0000\">│</span>   <span style=\"color: #7f7f7f; text-decoration-color: #7f7f7f\">1022 </span><span style=\"color: #7f7f7f; text-decoration-color: #7f7f7f\">│   │   │   </span>error_class = <span style=\"color: #00ffff; text-decoration-color: #00ffff\">self</span>.exceptions.from_code(error_code)                           <span style=\"color: #ff0000; text-decoration-color: #ff0000\">│</span>\n",
       "<span style=\"color: #ff0000; text-decoration-color: #ff0000\">│</span> <span style=\"color: #800000; text-decoration-color: #800000\">❱ </span>1023 <span style=\"color: #7f7f7f; text-decoration-color: #7f7f7f\">│   │   │   </span><span style=\"color: #0000ff; text-decoration-color: #0000ff; font-weight: bold; text-decoration: underline\">raise</span><span style=\"font-weight: bold; text-decoration: underline\"> error_class(parsed_response, operation_name)</span>                            <span style=\"color: #ff0000; text-decoration-color: #ff0000\">│</span>\n",
       "<span style=\"color: #ff0000; text-decoration-color: #ff0000\">│</span>   <span style=\"color: #7f7f7f; text-decoration-color: #7f7f7f\">1024 </span><span style=\"color: #7f7f7f; text-decoration-color: #7f7f7f\">│   │   </span><span style=\"color: #0000ff; text-decoration-color: #0000ff\">else</span>:                                                                             <span style=\"color: #ff0000; text-decoration-color: #ff0000\">│</span>\n",
       "<span style=\"color: #ff0000; text-decoration-color: #ff0000\">│</span>   <span style=\"color: #7f7f7f; text-decoration-color: #7f7f7f\">1025 </span><span style=\"color: #7f7f7f; text-decoration-color: #7f7f7f\">│   │   │   </span><span style=\"color: #0000ff; text-decoration-color: #0000ff\">return</span> parsed_response                                                        <span style=\"color: #ff0000; text-decoration-color: #ff0000\">│</span>\n",
       "<span style=\"color: #ff0000; text-decoration-color: #ff0000\">│</span>   <span style=\"color: #7f7f7f; text-decoration-color: #7f7f7f\">1026 </span>                                                                                          <span style=\"color: #ff0000; text-decoration-color: #ff0000\">│</span>\n",
       "<span style=\"color: #ff0000; text-decoration-color: #ff0000\">╰──────────────────────────────────────────────────────────────────────────────────────────────────╯</span>\n",
       "<span style=\"color: #ff0000; text-decoration-color: #ff0000; font-weight: bold\">ClientError: </span>An error occurred <span style=\"font-weight: bold\">(</span>ValidationException<span style=\"font-weight: bold\">)</span> when calling the DescribeTrainingJob operation: Requested \n",
       "resource not found.\n",
       "</pre>\n"
      ],
      "text/plain": [
       "\u001b[38;2;255;0;0m╭─\u001b[0m\u001b[38;2;255;0;0m──────────────────────────────\u001b[0m\u001b[38;2;255;0;0m \u001b[0m\u001b[1;38;2;255;0;0mTraceback \u001b[0m\u001b[1;2;38;2;255;0;0m(most recent call last)\u001b[0m\u001b[38;2;255;0;0m \u001b[0m\u001b[38;2;255;0;0m───────────────────────────────\u001b[0m\u001b[38;2;255;0;0m─╮\u001b[0m\n",
       "\u001b[38;2;255;0;0m│\u001b[0m in <module>:3                                                                                    \u001b[38;2;255;0;0m│\u001b[0m\n",
       "\u001b[38;2;255;0;0m│\u001b[0m                                                                                                  \u001b[38;2;255;0;0m│\u001b[0m\n",
       "\u001b[38;2;255;0;0m│\u001b[0m   \u001b[2m1 \u001b[0msm = boto3.client(\u001b[33m\"\u001b[0m\u001b[33msagemaker\u001b[0m\u001b[33m\"\u001b[0m)                                                               \u001b[38;2;255;0;0m│\u001b[0m\n",
       "\u001b[38;2;255;0;0m│\u001b[0m   \u001b[2m2 \u001b[0mtraining_job_name = \u001b[33m\"\u001b[0m\u001b[33mph-17-250815-1154\u001b[0m\u001b[33m\"\u001b[0m                                                      \u001b[38;2;255;0;0m│\u001b[0m\n",
       "\u001b[38;2;255;0;0m│\u001b[0m \u001b[31m❱ \u001b[0m3 tj = \u001b[1;4msm.describe_training_job(TrainingJobName=training_job_name)\u001b[0m                             \u001b[38;2;255;0;0m│\u001b[0m\n",
       "\u001b[38;2;255;0;0m│\u001b[0m   \u001b[2m4 \u001b[0m                                                                                             \u001b[38;2;255;0;0m│\u001b[0m\n",
       "\u001b[38;2;255;0;0m│\u001b[0m                                                                                                  \u001b[38;2;255;0;0m│\u001b[0m\n",
       "\u001b[38;2;255;0;0m│\u001b[0m \u001b[2m/opt/conda/lib/python3.12/site-packages/botocore/\u001b[0m\u001b[1mclient.py\u001b[0m:569 in _api_call                      \u001b[38;2;255;0;0m│\u001b[0m\n",
       "\u001b[38;2;255;0;0m│\u001b[0m                                                                                                  \u001b[38;2;255;0;0m│\u001b[0m\n",
       "\u001b[38;2;255;0;0m│\u001b[0m   \u001b[2m 566 \u001b[0m\u001b[2m│   │   │   │   │   \u001b[0m\u001b[33mf\u001b[0m\u001b[33m\"\u001b[0m\u001b[33m{\u001b[0mpy_operation_name\u001b[33m}\u001b[0m\u001b[33m() only accepts keyword arguments.\u001b[0m\u001b[33m\"\u001b[0m              \u001b[38;2;255;0;0m│\u001b[0m\n",
       "\u001b[38;2;255;0;0m│\u001b[0m   \u001b[2m 567 \u001b[0m\u001b[2m│   │   │   │   \u001b[0m)                                                                         \u001b[38;2;255;0;0m│\u001b[0m\n",
       "\u001b[38;2;255;0;0m│\u001b[0m   \u001b[2m 568 \u001b[0m\u001b[2m│   │   │   \u001b[0m\u001b[2m# The \"self\" in this scope is referring to the BaseClient.\u001b[0m                    \u001b[38;2;255;0;0m│\u001b[0m\n",
       "\u001b[38;2;255;0;0m│\u001b[0m \u001b[31m❱ \u001b[0m 569 \u001b[2m│   │   │   \u001b[0m\u001b[94mreturn\u001b[0m \u001b[1;4;96mself\u001b[0m\u001b[1;4m._make_api_call(operation_name, kwargs)\u001b[0m                            \u001b[38;2;255;0;0m│\u001b[0m\n",
       "\u001b[38;2;255;0;0m│\u001b[0m   \u001b[2m 570 \u001b[0m\u001b[2m│   │   \u001b[0m                                                                                  \u001b[38;2;255;0;0m│\u001b[0m\n",
       "\u001b[38;2;255;0;0m│\u001b[0m   \u001b[2m 571 \u001b[0m\u001b[2m│   │   \u001b[0m_api_call.\u001b[91m__name__\u001b[0m = \u001b[96mstr\u001b[0m(py_operation_name)                                       \u001b[38;2;255;0;0m│\u001b[0m\n",
       "\u001b[38;2;255;0;0m│\u001b[0m   \u001b[2m 572 \u001b[0m                                                                                          \u001b[38;2;255;0;0m│\u001b[0m\n",
       "\u001b[38;2;255;0;0m│\u001b[0m                                                                                                  \u001b[38;2;255;0;0m│\u001b[0m\n",
       "\u001b[38;2;255;0;0m│\u001b[0m \u001b[2m/opt/conda/lib/python3.12/site-packages/botocore/\u001b[0m\u001b[1mclient.py\u001b[0m:1023 in _make_api_call                \u001b[38;2;255;0;0m│\u001b[0m\n",
       "\u001b[38;2;255;0;0m│\u001b[0m                                                                                                  \u001b[38;2;255;0;0m│\u001b[0m\n",
       "\u001b[38;2;255;0;0m│\u001b[0m   \u001b[2m1020 \u001b[0m\u001b[2m│   │   │   │   \u001b[0m\u001b[33m\"\u001b[0m\u001b[33mCode\u001b[0m\u001b[33m\"\u001b[0m                                                                    \u001b[38;2;255;0;0m│\u001b[0m\n",
       "\u001b[38;2;255;0;0m│\u001b[0m   \u001b[2m1021 \u001b[0m\u001b[2m│   │   │   \u001b[0m)                                                                             \u001b[38;2;255;0;0m│\u001b[0m\n",
       "\u001b[38;2;255;0;0m│\u001b[0m   \u001b[2m1022 \u001b[0m\u001b[2m│   │   │   \u001b[0merror_class = \u001b[96mself\u001b[0m.exceptions.from_code(error_code)                           \u001b[38;2;255;0;0m│\u001b[0m\n",
       "\u001b[38;2;255;0;0m│\u001b[0m \u001b[31m❱ \u001b[0m1023 \u001b[2m│   │   │   \u001b[0m\u001b[1;4;94mraise\u001b[0m\u001b[1;4m error_class(parsed_response, operation_name)\u001b[0m                            \u001b[38;2;255;0;0m│\u001b[0m\n",
       "\u001b[38;2;255;0;0m│\u001b[0m   \u001b[2m1024 \u001b[0m\u001b[2m│   │   \u001b[0m\u001b[94melse\u001b[0m:                                                                             \u001b[38;2;255;0;0m│\u001b[0m\n",
       "\u001b[38;2;255;0;0m│\u001b[0m   \u001b[2m1025 \u001b[0m\u001b[2m│   │   │   \u001b[0m\u001b[94mreturn\u001b[0m parsed_response                                                        \u001b[38;2;255;0;0m│\u001b[0m\n",
       "\u001b[38;2;255;0;0m│\u001b[0m   \u001b[2m1026 \u001b[0m                                                                                          \u001b[38;2;255;0;0m│\u001b[0m\n",
       "\u001b[38;2;255;0;0m╰──────────────────────────────────────────────────────────────────────────────────────────────────╯\u001b[0m\n",
       "\u001b[1;91mClientError: \u001b[0mAn error occurred \u001b[1m(\u001b[0mValidationException\u001b[1m)\u001b[0m when calling the DescribeTrainingJob operation: Requested \n",
       "resource not found.\n"
      ]
     },
     "metadata": {},
     "output_type": "display_data"
    }
   ],
   "source": [
    "sm = boto3.client(\"sagemaker\")\n",
    "training_job_name = \"ph-17-250815-1154\"  \n",
    "tj = sm.describe_hyperparameter(TrainingJobName=training_job_name)"
   ]
  },
  {
   "cell_type": "code",
   "execution_count": 9,
   "id": "e8fdd96a-76f6-4803-bf0b-968d9fed6bc5",
   "metadata": {
    "execution": {
     "iopub.execute_input": "2025-08-15T09:08:03.198599Z",
     "iopub.status.busy": "2025-08-15T09:08:03.198246Z",
     "iopub.status.idle": "2025-08-15T09:08:03.658015Z",
     "shell.execute_reply": "2025-08-15T09:08:03.657318Z",
     "shell.execute_reply.started": "2025-08-15T09:08:03.198574Z"
    }
   },
   "outputs": [
    {
     "name": "stdout",
     "output_type": "stream",
     "text": [
      "Using hyperparameters: {'batch-size': 5, 'channels': 3, 'conv1-filters': 62, 'conv2-filters': 74, 'dense-units': 92, 'dropout-rate': 0.21555822761766713, 'epochs': 1, 'height': 512, 'learning-rate': 0.004668016111303579, 'optimizer': 'adam', 'pooling': 'avg', 'use-dropout': 'false', 'width': 512}\n"
     ]
    }
   ],
   "source": [
    "sm = boto3.client(\"sagemaker\")\n",
    "training_job_name = \"ph-17-250815-1154\"  \n",
    "tj = sm.describe_training_job(TrainingJobName=training_job_name)\n",
    "raw_hps = dict(tj[\"HyperParameters\"])  # strings\n",
    "raw_hps\n",
    "\n",
    "def strip_wrapped_quotes(v: str) -> str:\n",
    "    # turns '\"adam\"' -> adam ; \"\\\"s3://...\\\"\" -> s3://...\n",
    "    if v and len(v) >= 2 and v[0] == '\"' and v[-1] == '\"':\n",
    "        return v[1:-1]\n",
    "    return v\n",
    "\n",
    "# keys you don’t want to pass back to train.py\n",
    "denylist_prefixes = (\"sagemaker_\", \"_tuning_\")\n",
    "denylist_exact    = {\"model_dir\", \"sagemaker_job_name\", \"sagemaker_program\",\n",
    "                     \"sagemaker_region\", \"sagemaker_submit_directory\"}\n",
    "\n",
    "clean_hps = {}\n",
    "for k, v in raw_hps.items():\n",
    "    if k in denylist_exact or any(k.startswith(p) for p in denylist_prefixes):\n",
    "        continue\n",
    "    vv = strip_wrapped_quotes(v)\n",
    "    clean_hps[k] = vv\n",
    "clean_hps\n",
    "\n",
    "int_keys   = {\"epochs\",\"height\",\"width\",\"channels\",\"batch-size\",\n",
    "              \"conv1-filters\",\"conv2-filters\",\"dense-units\"}\n",
    "float_keys = {\"learning-rate\",\"dropout-rate\"}\n",
    "bool_keys  = {\"use-dropout\"}  # expects \"true\"/\"false\" strings in argparse? keep as strings if so.\n",
    "\n",
    "typed_hps = {}\n",
    "for k, v in clean_hps.items():\n",
    "    try:\n",
    "        if k in int_keys:   typed_hps[k] = int(float(v))  # int might come as \"5\" or \"5.0\"\n",
    "        elif k in float_keys: typed_hps[k] = float(v)\n",
    "        elif k in bool_keys:  typed_hps[k] = v.lower() if v.lower() in (\"true\",\"false\") else v\n",
    "        else:                 typed_hps[k] = v\n",
    "    except Exception:\n",
    "        # if anything is odd, fall back to original string\n",
    "        typed_hps[k] = v\n",
    "\n",
    "print(\"Using hyperparameters:\", typed_hps)"
   ]
  },
  {
   "cell_type": "markdown",
   "id": "01606610-5e84-44b3-9aba-888246c28bbb",
   "metadata": {},
   "source": [
    "# Deploy and Evaluate Model Performance"
   ]
  },
  {
   "cell_type": "code",
   "execution_count": null,
   "id": "a5cfacf9-f52a-48f5-a1f5-d8b8d674cda3",
   "metadata": {},
   "outputs": [],
   "source": [
    "train_npz = \"s3://sagemaker-ap-southeast-2-838084669510/aiornot/small_train/small_train.npz\"\n",
    "test_npz  = \"s3://sagemaker-ap-southeast-2-838084669510/aiornot/test/test.npz\"\n",
    "\n",
    "train_input = TrainingInput(train_npz, input_mode=\"File\", content_type=\"application/x-npz\")\n",
    "test_input  = TrainingInput(test_npz,  input_mode=\"File\", content_type=\"application/x-npz\")\n",
    "\n",
    "estimator = tf(\n",
    "    entry_point=\"train.py\",\n",
    "    source_dir=\"src\",\n",
    "    role=role,\n",
    "    instance_type=\"ml.c5.2xlarge\",\n",
    "    instance_count=1,\n",
    "    framework_version=\"2.14\",\n",
    "    py_version=\"py310\",\n",
    "    output_path=f\"s3://{bucket}/aiornot/model_output\",\n",
    "    # keep the static shape/run params you use + inject the tuned ones\n",
    "    hyperparameters={\n",
    "        \"epochs\": 5, \"height\": 512, \"width\": 512, \"channels\": 3,\n",
    "        **typed_hps,  # tuned values win if keys overlap\n",
    "    },\n",
    "    metric_definitions=[\n",
    "        {\"Name\":\"val_auc\",\"Regex\":r\"val_auc: ([0-9\\.]+)\"},\n",
    "        {\"Name\":\"val_f1\",\"Regex\":r\"val_f1: ([0-9\\.]+)\"},\n",
    "        {\"Name\":\"val_precision\",\"Regex\":r\"val_precision: ([0-9\\.]+)\"},\n",
    "        {\"Name\":\"val_recall\",\"Regex\":r\"val_recall: ([0-9\\.]+)\"},\n",
    "        {\"Name\":\"val_accuracy\",\"Regex\":r\"val_accuracy: ([0-9\\.]+)\"},\n",
    "    ],\n",
    ")\n",
    "# Creating training-job with name: bestparams-refit-20250815-091227\n",
    "job_name = \"bestparams-refit-\" + time.strftime(\"%Y%m%d-%H%M%S\")\n",
    "estimator.fit(\n",
    "    {\"train\": train_input, \"test\": test_input},\n",
    "    job_name=job_name\n",
    ")"
   ]
  },
  {
   "cell_type": "code",
   "execution_count": 17,
   "id": "3384a60b-d042-4be3-91a8-ec5e43a86898",
   "metadata": {
    "execution": {
     "iopub.execute_input": "2025-08-15T10:06:55.238598Z",
     "iopub.status.busy": "2025-08-15T10:06:55.238304Z",
     "iopub.status.idle": "2025-08-15T10:09:57.336510Z",
     "shell.execute_reply": "2025-08-15T10:09:57.335647Z",
     "shell.execute_reply.started": "2025-08-15T10:06:55.238573Z"
    }
   },
   "outputs": [
    {
     "name": "stderr",
     "output_type": "stream",
     "text": [
      "INFO:sagemaker.tensorflow.model:image_uri is not presented, retrieving image_uri based on instance_type, framework etc.\n",
      "INFO:sagemaker:Creating model with name: tensorflow-inference-2025-08-15-10-06-55-492\n",
      "INFO:sagemaker:Creating endpoint-config with name tensorflow-inference-2025-08-15-10-06-56-118\n",
      "INFO:sagemaker:Creating endpoint with name tensorflow-inference-2025-08-15-10-06-56-118\n"
     ]
    },
    {
     "name": "stdout",
     "output_type": "stream",
     "text": [
      "-----!"
     ]
    }
   ],
   "source": [
    "final_model_s3_path = \"s3://sagemaker-ap-southeast-2-838084669510/aiornot/model_output/bestparams-refit-20250815-091227/output/model.tar.gz\"\n",
    "final_tf_model = TensorFlowModel(\n",
    "    model_data=final_model_s3_path,\n",
    "    role=role,\n",
    "    framework_version=\"2.14\"\n",
    ")\n",
    "\n",
    "predictor = final_tf_model.deploy(\n",
    "    initial_instance_count=1,\n",
    "    instance_type=\"ml.m5.large\",\n",
    "    endpoint_name=\"final_model_endpoint\"\n",
    ")"
   ]
  },
  {
   "cell_type": "code",
   "execution_count": 38,
   "id": "855999bf-d238-47b0-818e-c1f092850caf",
   "metadata": {
    "execution": {
     "iopub.execute_input": "2025-08-15T11:18:05.737118Z",
     "iopub.status.busy": "2025-08-15T11:18:05.736840Z",
     "iopub.status.idle": "2025-08-15T11:18:16.301543Z",
     "shell.execute_reply": "2025-08-15T11:18:16.300809Z",
     "shell.execute_reply.started": "2025-08-15T11:18:05.737098Z"
    }
   },
   "outputs": [
    {
     "name": "stdout",
     "output_type": "stream",
     "text": [
      "Accuracy: 0.75\n",
      "              precision    recall  f1-score   support\n",
      "\n",
      "           0       0.73      0.80      0.76        10\n",
      "           1       0.78      0.70      0.74        10\n",
      "\n",
      "    accuracy                           0.75        20\n",
      "   macro avg       0.75      0.75      0.75        20\n",
      "weighted avg       0.75      0.75      0.75        20\n",
      "\n"
     ]
    }
   ],
   "source": [
    "from sklearn.metrics import classification_report, accuracy_score\n",
    "# Load test set locally (you’ll need it locally for label comparison)\n",
    "\n",
    "# 1) load\n",
    "with fs.open(s3_tiny_test_path, \"rb\") as f:\n",
    "    d = np.load(f)\n",
    "    X = d[\"image\"].astype(\"float32\") \n",
    "    y_true = np.asarray(d[\"label\"], dtype=int).ravel()\n",
    "\n",
    "# 3) predict in micro-batches to avoid 413\n",
    "def predict_batches(pred, X, bs=1):\n",
    "    probs = []\n",
    "    for i in range(0, len(X), bs):\n",
    "        out = pred.predict(X[i:i+bs].tolist())\n",
    "        p = np.array(out.get(\"predictions\", out)).reshape(-1)  # shape (bs,)\n",
    "        probs.append(p)\n",
    "    return np.concatenate(probs)\n",
    "\n",
    "probs = predict_batches(predictor, X, bs=1)\n",
    "y_pred = (probs >= 0.5).astype(int)"
   ]
  },
  {
   "cell_type": "code",
   "execution_count": 43,
   "id": "e9edf146-e920-48aa-8b73-45935ba6ba34",
   "metadata": {
    "execution": {
     "iopub.execute_input": "2025-08-15T11:38:34.301124Z",
     "iopub.status.busy": "2025-08-15T11:38:34.300766Z",
     "iopub.status.idle": "2025-08-15T11:38:34.348400Z",
     "shell.execute_reply": "2025-08-15T11:38:34.347613Z",
     "shell.execute_reply.started": "2025-08-15T11:38:34.301101Z"
    }
   },
   "outputs": [
    {
     "data": {
      "text/html": [
       "<div>\n",
       "<style scoped>\n",
       "    .dataframe tbody tr th:only-of-type {\n",
       "        vertical-align: middle;\n",
       "    }\n",
       "\n",
       "    .dataframe tbody tr th {\n",
       "        vertical-align: top;\n",
       "    }\n",
       "\n",
       "    .dataframe thead th {\n",
       "        text-align: right;\n",
       "    }\n",
       "</style>\n",
       "<table border=\"1\" class=\"dataframe\">\n",
       "  <thead>\n",
       "    <tr style=\"text-align: right;\">\n",
       "      <th></th>\n",
       "      <th>precision</th>\n",
       "      <th>recall</th>\n",
       "      <th>f1</th>\n",
       "      <th>accuracy</th>\n",
       "    </tr>\n",
       "  </thead>\n",
       "  <tbody>\n",
       "    <tr>\n",
       "      <th>0</th>\n",
       "      <td>0.7778</td>\n",
       "      <td>0.7</td>\n",
       "      <td>0.7368</td>\n",
       "      <td>0.75</td>\n",
       "    </tr>\n",
       "  </tbody>\n",
       "</table>\n",
       "</div>"
      ],
      "text/plain": [
       "   precision  recall      f1  accuracy\n",
       "0     0.7778     0.7  0.7368      0.75"
      ]
     },
     "execution_count": 43,
     "metadata": {},
     "output_type": "execute_result"
    }
   ],
   "source": [
    "import pandas as pd\n",
    "from sklearn.metrics import precision_score, recall_score, f1_score, accuracy_score\n",
    "metrics = {\n",
    "    \"precision\": precision_score(y_true, y_pred, zero_division=0),\n",
    "    \"recall\": recall_score(y_true, y_pred, zero_division=0),\n",
    "    \"f1\": f1_score(y_true, y_pred, zero_division=0),\n",
    "    \"accuracy\": accuracy_score(y_true, y_pred),\n",
    "}\n",
    "df_metrics = pd.DataFrame([metrics]).round(4)\n",
    "df_metrics"
   ]
  },
  {
   "cell_type": "code",
   "execution_count": 44,
   "id": "ae2fab22-661e-4631-89b6-220b834d69e3",
   "metadata": {
    "execution": {
     "iopub.execute_input": "2025-08-15T11:38:51.210066Z",
     "iopub.status.busy": "2025-08-15T11:38:51.209536Z",
     "iopub.status.idle": "2025-08-15T11:38:51.680457Z",
     "shell.execute_reply": "2025-08-15T11:38:51.679644Z",
     "shell.execute_reply.started": "2025-08-15T11:38:51.210040Z"
    }
   },
   "outputs": [
    {
     "data": {
      "image/png": "[encoded data removed]",
      "text/plain": [
       "<Figure size 640x480 with 2 Axes>"
      ]
     },
     "metadata": {},
     "output_type": "display_data"
    }
   ],
   "source": [
    "import numpy as np\n",
    "import matplotlib.pyplot as plt\n",
    "from sklearn.metrics import confusion_matrix\n",
    "\n",
    "labels = [\"not ai\", \"ai\"] \n",
    "cm = confusion_matrix(y_true, y_pred, labels=[0, 1])\n",
    "\n",
    "fig, ax = plt.subplots()\n",
    "im = ax.imshow(cm, interpolation=\"nearest\")\n",
    "ax.figure.colorbar(im, ax=ax)\n",
    "ax.set_xticks(np.arange(2), labels=labels)\n",
    "ax.set_yticks(np.arange(2), labels=labels)\n",
    "ax.set_xlabel(\"Predicted label\")\n",
    "ax.set_ylabel(\"True label\")\n",
    "for i in range(cm.shape[0]):\n",
    "    for j in range(cm.shape[1]):\n",
    "        ax.text(j, i, cm[i, j], ha=\"center\", va=\"center\")\n",
    "plt.tight_layout()\n",
    "plt.show()\n"
   ]
  }
 ],
 "metadata": {
  "kernelspec": {
   "display_name": "Python 3 (ipykernel)",
   "language": "python",
   "name": "python3"
  },
  "language_info": {
   "codemirror_mode": {
    "name": "ipython",
    "version": 3
   },
   "file_extension": ".py",
   "mimetype": "text/x-python",
   "name": "python",
   "nbconvert_exporter": "python",
   "pygments_lexer": "ipython3",
   "version": "3.12.9"
  }
 },
 "nbformat": 4,
 "nbformat_minor": 5
}
