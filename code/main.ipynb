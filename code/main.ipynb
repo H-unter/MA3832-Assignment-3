{
 "cells": [
  {
   "cell_type": "markdown",
   "id": "b6924d8e-f21c-4f8a-aa11-eaa8a791c675",
   "metadata": {},
   "source": [
    "# Imports"
   ]
  },
  {
   "cell_type": "code",
   "execution_count": 2,
   "id": "832b4543-c435-4c20-abf4-972acc7a3378",
   "metadata": {
    "execution": {
     "iopub.execute_input": "2025-08-16T09:04:46.056190Z",
     "iopub.status.busy": "2025-08-16T09:04:46.055712Z",
     "iopub.status.idle": "2025-08-16T09:04:55.996409Z",
     "shell.execute_reply": "2025-08-16T09:04:55.995768Z",
     "shell.execute_reply.started": "2025-08-16T09:04:46.056167Z"
    }
   },
   "outputs": [
    {
     "name": "stdout",
     "output_type": "stream",
     "text": [
      "sagemaker.config INFO - Not applying SDK defaults from location: /etc/xdg/sagemaker/config.yaml\n",
      "sagemaker.config INFO - Not applying SDK defaults from location: /home/sagemaker-user/.config/sagemaker/config.yaml\n"
     ]
    },
    {
     "name": "stderr",
     "output_type": "stream",
     "text": [
      "2025-08-16 09:04:49.993837: I tensorflow/core/platform/cpu_feature_guard.cc:210] This TensorFlow binary is optimized to use available CPU instructions in performance-critical operations.\n",
      "To enable the following instructions: SSE4.1 SSE4.2 AVX AVX2 AVX512F FMA, in other operations, rebuild TensorFlow with the appropriate compiler flags.\n"
     ]
    },
    {
     "data": {
      "text/plain": [
       "'2.245.0'"
      ]
     },
     "execution_count": 2,
     "metadata": {},
     "output_type": "execute_result"
    }
   ],
   "source": [
    "import boto3\n",
    "import sagemaker\n",
    "from sagemaker import Session\n",
    "from sagemaker.session import TrainingInput\n",
    "from sagemaker.tensorflow import TensorFlow as tf\n",
    "from sagemaker.tensorflow import TensorFlowModel\n",
    "from sagemaker.tuner import HyperparameterTuner, IntegerParameter, ContinuousParameter, CategoricalParameter\n",
    "from sagemaker.serializers import JSONSerializer\n",
    "from sagemaker.deserializers import JSONDeserializer\n",
    "import tensorflow\n",
    "import s3fs\n",
    "import numpy as np\n",
    "import json\n",
    "import time\n",
    "RANDOM_SEED = 0\n",
    "sagemaker.__version__"
   ]
  },
  {
   "cell_type": "markdown",
   "id": "2a06fd73-eff5-46a8-a976-799a93a98287",
   "metadata": {
    "execution": {
     "iopub.execute_input": "2025-08-15T03:54:51.411970Z",
     "iopub.status.busy": "2025-08-15T03:54:51.411133Z",
     "iopub.status.idle": "2025-08-15T03:54:51.414957Z",
     "shell.execute_reply": "2025-08-15T03:54:51.414149Z",
     "shell.execute_reply.started": "2025-08-15T03:54:51.411940Z"
    }
   },
   "source": [
    "# Sagemaker Initialization"
   ]
  },
  {
   "cell_type": "code",
   "execution_count": 3,
   "id": "ef827c86-fae9-4009-8752-518a4f19b9c0",
   "metadata": {
    "execution": {
     "iopub.execute_input": "2025-08-16T09:04:55.998603Z",
     "iopub.status.busy": "2025-08-16T09:04:55.997873Z",
     "iopub.status.idle": "2025-08-16T09:04:56.641746Z",
     "shell.execute_reply": "2025-08-16T09:04:56.640822Z",
     "shell.execute_reply.started": "2025-08-16T09:04:55.998577Z"
    }
   },
   "outputs": [
    {
     "name": "stdout",
     "output_type": "stream",
     "text": [
      "S3 Bucket: fsagemaker-ap-southeast-2-838084669510\n"
     ]
    }
   ],
   "source": [
    "fs = s3fs.S3FileSystem()\n",
    "sm = boto3.client(\"sagemaker\")\n",
    "sess = sagemaker.Session()\n",
    "role = sagemaker.get_execution_role()\n",
    "s3 = boto3.client(\"s3\")\n",
    "bucket = sess.default_bucket()   # will be sagemaker-ap-southeast-2-838084669510\n",
    "prefix = \"aiornot\"\n",
    "print(f\"S3 Bucket: f{bucket}\")\n",
    "\n",
    "s3_small_train_path = f\"s3://{bucket}/{prefix}/small_train/small_train.npz\"\n",
    "s3_train_path = f\"s3://{bucket}/{prefix}/train/train.npz\"\n",
    "s3_test_path = f\"s3://{bucket}/{prefix}/test/test.npz\"\n",
    "s3_holdout_test_path = f\"s3://{bucket}/{prefix}/holdout_test/holdout_test.npz\"\n",
    "s3_output_location = f\"s3://{bucket}/{prefix}/model_output\"\n",
    "\n",
    "small_train_input = TrainingInput(s3_small_train_path, content_type=\"application/x-npz\")\n",
    "train_input = TrainingInput(s3_train_path, content_type=\"application/x-npz\")\n",
    "test_input = TrainingInput(s3_test_path, content_type=\"application/x-npz\")\n"
   ]
  },
  {
   "cell_type": "markdown",
   "id": "5743c113-d98c-499b-ab43-1754213bd726",
   "metadata": {},
   "source": [
    "# Hyperparameter Tuning on smaller training set"
   ]
  },
  {
   "cell_type": "code",
   "execution_count": 47,
   "id": "26f94014-1f2f-4021-a1f6-070f22186d77",
   "metadata": {
    "execution": {
     "iopub.execute_input": "2025-08-15T11:54:54.479660Z",
     "iopub.status.busy": "2025-08-15T11:54:54.479219Z",
     "iopub.status.idle": "2025-08-15T13:27:38.867351Z",
     "shell.execute_reply": "2025-08-15T13:27:38.866513Z",
     "shell.execute_reply.started": "2025-08-15T11:54:54.479631Z"
    }
   },
   "outputs": [
    {
     "name": "stderr",
     "output_type": "stream",
     "text": [
      "INFO:sagemaker.image_uris:image_uri is not presented, retrieving image_uri based on instance_type, framework etc.\n",
      "WARNING:sagemaker.estimator:No finished training job found associated with this estimator. Please make sure this estimator is only used for building workflow config\n",
      "INFO:sagemaker.image_uris:image_uri is not presented, retrieving image_uri based on instance_type, framework etc.\n",
      "INFO:sagemaker:Creating hyperparameter tuning job with name: ph-17-250815-1154\n"
     ]
    },
    {
     "name": "stdout",
     "output_type": "stream",
     "text": [
      ".................................................................................................................................................................................................................................................................................................................................................................................................................................................................................................................................................................................................................................................................................................................................................................................................................................................................................................................................................................................................................................................................................................................................!\n"
     ]
    }
   ],
   "source": [
    "estimator = tf(\n",
    "    entry_point=\"train.py\",\n",
    "    source_dir=\"src\",\n",
    "    role=role,\n",
    "    use_spot_instances=True,  # save money\n",
    "    instance_type=\"ml.c5.2xlarge\",\n",
    "    instance_count=1,\n",
    "    framework_version=\"2.14\",\n",
    "    py_version=\"py310\",\n",
    "    hyperparameters={\n",
    "        \"epochs\": 3,\n",
    "        \"height\": 512,\n",
    "        \"width\": 512,\n",
    "        \"channels\": 3\n",
    "    },\n",
    "    output_path=s3_output_location\n",
    ")\n",
    "\n",
    "hyperparameter_ranges = {\n",
    "    \"learning-rate\": ContinuousParameter(1e-4, 1e-2, scaling_type=\"Logarithmic\"),\n",
    "    \"dropout-rate\": ContinuousParameter(0.0, 0.5), # if use-dropout=true\n",
    "    \"batch-size\": IntegerParameter(4, 8), # change range to suit memory\n",
    "    \"conv1-filters\": IntegerParameter(16, 128),\n",
    "    \"conv2-filters\": IntegerParameter(32, 256),\n",
    "    \"dense-units\": IntegerParameter(64, 512),\n",
    "    \"pooling\": CategoricalParameter([\"max\", \"avg\"]),\n",
    "    \"use-dropout\": CategoricalParameter([\"true\", \"false\"]),\n",
    "    \"optimizer\": CategoricalParameter([\"adam\", \"adagrad\"]),\n",
    "}\n",
    "\n",
    "metric_definitions = [\n",
    "    {\"Name\": \"val_auc\",       \"Regex\": \"val_auc: ([0-9\\\\.]+)\"},\n",
    "    {\"Name\": \"val_f1\",        \"Regex\": \"val_f1: ([0-9\\\\.]+)\"},\n",
    "    {\"Name\": \"val_precision\", \"Regex\": \"val_precision: ([0-9\\\\.]+)\"},\n",
    "    {\"Name\": \"val_recall\",    \"Regex\": \"val_recall: ([0-9\\\\.]+)\"},\n",
    "    {\"Name\": \"val_accuracy\",  \"Regex\": \"val_accuracy: ([0-9\\\\.]+)\"},\n",
    "]\n",
    "\n",
    "tuner = HyperparameterTuner(\n",
    "    estimator=estimator,\n",
    "    objective_metric_name=\"val_f1\",\n",
    "    strategy='Hyperband',\n",
    "    hyperparameter_ranges=hyperparameter_ranges,\n",
    "    metric_definitions=metric_definitions,\n",
    "    max_parallel_jobs=5,\n",
    "    objective_type=\"Maximize\",\n",
    "    # early_stopping_type=\"Auto\", # not supported for hyperband strategy, since it gets rid of unpromising trials itself\n",
    "    max_jobs=20,\n",
    "    base_tuning_job_name=\"ph-17\",\n",
    ")\n",
    "\n",
    "tuner.fit({\n",
    "    \"train\": small_train_input, # for faster iteration\n",
    "    \"test\": test_input,\n",
    "})\n"
   ]
  },
  {
   "cell_type": "markdown",
   "id": "04082aa8-4df9-4fba-a6d7-45c02784468a",
   "metadata": {},
   "source": [
    "# Get Best Hyperparameters and train on larger set"
   ]
  },
  {
   "cell_type": "code",
   "execution_count": 5,
   "id": "f8634f45-61bf-4821-8a27-63faefb45b31",
   "metadata": {
    "execution": {
     "iopub.execute_input": "2025-08-16T09:05:13.658397Z",
     "iopub.status.busy": "2025-08-16T09:05:13.658043Z",
     "iopub.status.idle": "2025-08-16T09:05:13.771097Z",
     "shell.execute_reply": "2025-08-16T09:05:13.770291Z",
     "shell.execute_reply.started": "2025-08-16T09:05:13.658369Z"
    }
   },
   "outputs": [
    {
     "data": {
      "text/plain": [
       "{'HyperParameterTuningJobName': 'ph-17-250815-1154',\n",
       " 'HyperParameterTuningJobArn': 'arn:aws:sagemaker:ap-southeast-2:838084669510:hyper-parameter-tuning-job/ph-17-250815-1154',\n",
       " 'HyperParameterTuningJobConfig': {'Strategy': 'Hyperband',\n",
       "  'StrategyConfig': {'HyperbandStrategyConfig': {'MinResource': 1,\n",
       "    'MaxResource': 3}},\n",
       "  'HyperParameterTuningJobObjective': {'Type': 'Maximize',\n",
       "   'MetricName': 'val_f1'},\n",
       "  'ResourceLimits': {'MaxNumberOfTrainingJobs': 20,\n",
       "   'MaxParallelTrainingJobs': 5},\n",
       "  'ParameterRanges': {'IntegerParameterRanges': [{'Name': 'batch-size',\n",
       "     'MinValue': '4',\n",
       "     'MaxValue': '8',\n",
       "     'ScalingType': 'Auto'},\n",
       "    {'Name': 'conv1-filters',\n",
       "     'MinValue': '16',\n",
       "     'MaxValue': '128',\n",
       "     'ScalingType': 'Auto'},\n",
       "    {'Name': 'conv2-filters',\n",
       "     'MinValue': '32',\n",
       "     'MaxValue': '256',\n",
       "     'ScalingType': 'Auto'},\n",
       "    {'Name': 'dense-units',\n",
       "     'MinValue': '64',\n",
       "     'MaxValue': '512',\n",
       "     'ScalingType': 'Auto'}],\n",
       "   'ContinuousParameterRanges': [{'Name': 'learning-rate',\n",
       "     'MinValue': '0.0001',\n",
       "     'MaxValue': '0.01',\n",
       "     'ScalingType': 'Logarithmic'},\n",
       "    {'Name': 'dropout-rate',\n",
       "     'MinValue': '0.0',\n",
       "     'MaxValue': '0.5',\n",
       "     'ScalingType': 'Auto'}],\n",
       "   'CategoricalParameterRanges': [{'Name': 'pooling',\n",
       "     'Values': ['\"max\"', '\"avg\"']},\n",
       "    {'Name': 'use-dropout', 'Values': ['\"true\"', '\"false\"']},\n",
       "    {'Name': 'optimizer', 'Values': ['\"adam\"', '\"adagrad\"']}]},\n",
       "  'TrainingJobEarlyStoppingType': 'Off'},\n",
       " 'TrainingJobDefinition': {'StaticHyperParameters': {'_tuning_objective_metric': 'val_f1',\n",
       "   'channels': '3',\n",
       "   'epochs': '3',\n",
       "   'height': '512',\n",
       "   'model_dir': '\"s3://sagemaker-ap-southeast-2-838084669510/aiornot/model_output/tensorflow-training-2025-08-15-11-54-54-539/model\"',\n",
       "   'sagemaker_container_log_level': '20',\n",
       "   'sagemaker_estimator_class_name': '\"TensorFlow\"',\n",
       "   'sagemaker_estimator_module': '\"sagemaker.tensorflow.estimator\"',\n",
       "   'sagemaker_job_name': '\"tensorflow-training-2025-08-15-11-54-54-539\"',\n",
       "   'sagemaker_program': '\"train.py\"',\n",
       "   'sagemaker_region': '\"ap-southeast-2\"',\n",
       "   'sagemaker_submit_directory': '\"s3://sagemaker-ap-southeast-2-838084669510/tensorflow-training-2025-08-15-11-54-54-539/source/sourcedir.tar.gz\"',\n",
       "   'width': '512'},\n",
       "  'AlgorithmSpecification': {'TrainingImage': '763104351884.dkr.ecr.ap-southeast-2.amazonaws.com/tensorflow-training:2.14-cpu-py310',\n",
       "   'TrainingInputMode': 'File',\n",
       "   'MetricDefinitions': [{'Name': 'val_auc', 'Regex': 'val_auc: ([0-9\\\\.]+)'},\n",
       "    {'Name': 'val_f1', 'Regex': 'val_f1: ([0-9\\\\.]+)'},\n",
       "    {'Name': 'val_precision', 'Regex': 'val_precision: ([0-9\\\\.]+)'},\n",
       "    {'Name': 'val_recall', 'Regex': 'val_recall: ([0-9\\\\.]+)'},\n",
       "    {'Name': 'val_accuracy', 'Regex': 'val_accuracy: ([0-9\\\\.]+)'},\n",
       "    {'Name': 'ObjectiveMetric', 'Regex': 'val_f1: ([0-9\\\\.]+)'}]},\n",
       "  'RoleArn': 'arn:aws:iam::838084669510:role/service-role/AmazonSageMaker-ExecutionRole-20250711T134867',\n",
       "  'InputDataConfig': [{'ChannelName': 'train',\n",
       "    'DataSource': {'S3DataSource': {'S3DataType': 'S3Prefix',\n",
       "      'S3Uri': 's3://sagemaker-ap-southeast-2-838084669510/aiornot/small_train/small_train.npz',\n",
       "      'S3DataDistributionType': 'FullyReplicated'}},\n",
       "    'ContentType': 'application/x-npz'},\n",
       "   {'ChannelName': 'test',\n",
       "    'DataSource': {'S3DataSource': {'S3DataType': 'S3Prefix',\n",
       "      'S3Uri': 's3://sagemaker-ap-southeast-2-838084669510/aiornot/test/test.npz',\n",
       "      'S3DataDistributionType': 'FullyReplicated'}},\n",
       "    'ContentType': 'application/x-npz'}],\n",
       "  'OutputDataConfig': {'S3OutputPath': 's3://sagemaker-ap-southeast-2-838084669510/aiornot/model_output'},\n",
       "  'ResourceConfig': {'InstanceType': 'ml.c5.2xlarge',\n",
       "   'InstanceCount': 1,\n",
       "   'VolumeSizeInGB': 30},\n",
       "  'StoppingCondition': {'MaxRuntimeInSeconds': 86400},\n",
       "  'EnableNetworkIsolation': False,\n",
       "  'EnableInterContainerTrafficEncryption': False,\n",
       "  'EnableManagedSpotTraining': False},\n",
       " 'HyperParameterTuningJobStatus': 'Completed',\n",
       " 'CreationTime': datetime.datetime(2025, 8, 15, 11, 54, 54, 892000, tzinfo=tzlocal()),\n",
       " 'HyperParameterTuningEndTime': datetime.datetime(2025, 8, 15, 13, 27, 33, 939000, tzinfo=tzlocal()),\n",
       " 'LastModifiedTime': datetime.datetime(2025, 8, 15, 13, 27, 33, 939000, tzinfo=tzlocal()),\n",
       " 'TrainingJobStatusCounters': {'Completed': 18,\n",
       "  'InProgress': 0,\n",
       "  'RetryableError': 0,\n",
       "  'NonRetryableError': 0,\n",
       "  'Stopped': 2},\n",
       " 'ObjectiveStatusCounters': {'Succeeded': 20, 'Pending': 0, 'Failed': 0},\n",
       " 'BestTrainingJob': {'TrainingJobName': 'ph-17-250815-1154-018-22526da0',\n",
       "  'TrainingJobArn': 'arn:aws:sagemaker:ap-southeast-2:838084669510:training-job/ph-17-250815-1154-018-22526da0',\n",
       "  'CreationTime': datetime.datetime(2025, 8, 15, 13, 4, 59, tzinfo=tzlocal()),\n",
       "  'TrainingStartTime': datetime.datetime(2025, 8, 15, 13, 5, 6, tzinfo=tzlocal()),\n",
       "  'TrainingEndTime': datetime.datetime(2025, 8, 15, 13, 13, 1, tzinfo=tzlocal()),\n",
       "  'TrainingJobStatus': 'Completed',\n",
       "  'TunedHyperParameters': {'batch-size': '8',\n",
       "   'conv1-filters': '24',\n",
       "   'conv2-filters': '107',\n",
       "   'dense-units': '254',\n",
       "   'dropout-rate': '0.28387290921651137',\n",
       "   'learning-rate': '0.0014935690608651416',\n",
       "   'optimizer': '\"adam\"',\n",
       "   'pooling': '\"max\"',\n",
       "   'use-dropout': '\"true\"'},\n",
       "  'FinalHyperParameterTuningJobObjectiveMetric': {'MetricName': 'val_f1',\n",
       "   'Value': 0.8897770047187805},\n",
       "  'ObjectiveStatus': 'Succeeded'},\n",
       " 'TuningJobCompletionDetails': {'NumberOfTrainingJobsObjectiveNotImproving': 7},\n",
       " 'ConsumedResources': {'RuntimeInSeconds': 5558},\n",
       " 'ResponseMetadata': {'RequestId': '8403fb58-9a31-4c98-b63d-06c06c7dc274',\n",
       "  'HTTPStatusCode': 200,\n",
       "  'HTTPHeaders': {'x-amzn-requestid': '8403fb58-9a31-4c98-b63d-06c06c7dc274',\n",
       "   'content-type': 'application/x-amz-json-1.1',\n",
       "   'content-length': '4832',\n",
       "   'date': 'Sat, 16 Aug 2025 09:05:13 GMT'},\n",
       "  'RetryAttempts': 0}}"
      ]
     },
     "execution_count": 5,
     "metadata": {},
     "output_type": "execute_result"
    }
   ],
   "source": [
    "name = \"ph-17-250815-1154\"\n",
    "\n",
    "# 1) Best job + objective metric\n",
    "desc = sm.describe_hyper_parameter_tuning_job(HyperParameterTuningJobName=name)\n",
    "desc"
   ]
  },
  {
   "cell_type": "code",
   "execution_count": 7,
   "id": "e8fdd96a-76f6-4803-bf0b-968d9fed6bc5",
   "metadata": {
    "execution": {
     "iopub.execute_input": "2025-08-16T09:17:05.515151Z",
     "iopub.status.busy": "2025-08-16T09:17:05.514610Z",
     "iopub.status.idle": "2025-08-16T09:17:05.615229Z",
     "shell.execute_reply": "2025-08-16T09:17:05.614430Z",
     "shell.execute_reply.started": "2025-08-16T09:17:05.515122Z"
    }
   },
   "outputs": [
    {
     "name": "stdout",
     "output_type": "stream",
     "text": [
      "Using hyperparameters: {'batch-size': 8, 'channels': 3, 'conv1-filters': 24, 'conv2-filters': 107, 'dense-units': 254, 'dropout-rate': 0.28387290921651137, 'epochs': 3, 'height': 512, 'learning-rate': 0.0014935690608651416, 'optimizer': 'adam', 'pooling': 'max', 'use-dropout': 'true', 'width': 512}\n"
     ]
    }
   ],
   "source": [
    "sm = boto3.client(\"sagemaker\")\n",
    "training_job_name = \"ph-17-250815-1154-018-22526da0\"  \n",
    "tj = sm.describe_training_job(TrainingJobName=training_job_name)\n",
    "raw_hps = dict(tj[\"HyperParameters\"])  # strings\n",
    "raw_hps\n",
    "\n",
    "\n",
    "def strip_wrapped_quotes(string):\n",
    "    if string and len(string) >= 2 and string[0] == '\"' and string[-1] == '\"':\n",
    "        return string[1:-1]\n",
    "    return string\n",
    "\n",
    "\n",
    "denylist_prefixes = (\"sagemaker_\", \"_tuning_\")\n",
    "denylist_set_exact = {\"model_dir\", \"sagemaker_job_name\", \"sagemaker_program\", \"sagemaker_region\", \"sagemaker_submit_directory\"}\n",
    "\n",
    "clean_hyperparameters = {}\n",
    "for key, value in raw_hps.items():\n",
    "    if key in denylist_set_exact or any(key.startswith(p) for p in denylist_prefixes):\n",
    "        continue\n",
    "    stripped_value = strip_wrapped_quotes(value)\n",
    "    clean_hyperparameters[key] = stripped_value\n",
    "clean_hyperparameters\n",
    "\n",
    "int_keys = {\"epochs\", \"height\", \"width\", \"channels\", \"batch-size\", \"conv1-filters\", \"conv2-filters\", \"dense-units\"}\n",
    "float_keys = {\"learning-rate\", \"dropout-rate\"}\n",
    "bool_keys = {\"use-dropout\"}  # expects \"true\"/\"false\" strings in argparse? keep as strings if so.\n",
    "\n",
    "typed_hyperparameters = {}\n",
    "for key, value in clean_hyperparameters.items():\n",
    "    try:\n",
    "        if key in int_keys:\n",
    "            typed_hyperparameters[key] = int(float(value)) \n",
    "        elif key in float_keys:\n",
    "            typed_hyperparameters[key] = float(value)\n",
    "        elif key in bool_keys:\n",
    "            typed_hyperparameters[key] = value.lower() if value.lower() in (\"true\",\"false\") else value\n",
    "        else:\n",
    "            typed_hyperparameters[key] = value\n",
    "    except Exception:\n",
    "        typed_hyperparameters[key] = value\n",
    "\n",
    "print(\"Using hyperparameters:\", typed_hyperparameters)"
   ]
  },
  {
   "cell_type": "markdown",
   "id": "01606610-5e84-44b3-9aba-888246c28bbb",
   "metadata": {},
   "source": [
    "# Train on the Larger Set"
   ]
  },
  {
   "cell_type": "code",
   "execution_count": null,
   "id": "a5cfacf9-f52a-48f5-a1f5-d8b8d674cda3",
   "metadata": {},
   "outputs": [],
   "source": [
    "train_npz = \"s3://sagemaker-ap-southeast-2-838084669510/aiornot/train/train.npz\"\n",
    "test_npz = \"s3://sagemaker-ap-southeast-2-838084669510/aiornot/test/test.npz\"\n",
    "\n",
    "train_input = TrainingInput(train_npz, input_mode=\"File\", content_type=\"application/x-npz\")\n",
    "test_input = TrainingInput(test_npz, input_mode=\"File\", content_type=\"application/x-npz\")\n",
    "\n",
    "estimator = tf(\n",
    "    entry_point=\"train.py\",\n",
    "    source_dir=\"src\",\n",
    "    role=role,\n",
    "    instance_type=\"ml.c5.2xlarge\",\n",
    "    instance_count=1,\n",
    "    framework_version=\"2.14\",\n",
    "    py_version=\"py310\",\n",
    "    output_path=f\"s3://{bucket}/aiornot/model_output\",\n",
    "    # keep the static shape/run params you use + inject the tuned ones\n",
    "    hyperparameters={\n",
    "        \"epochs\": 5, \"height\": 512, \"width\": 512, \"channels\": 3,\n",
    "        **typed_hyperparameters,  # tuned values win if keys overlap\n",
    "    },\n",
    "    metric_definitions=[\n",
    "        {\"Name\":\"val_auc\",\"Regex\":r\"val_auc: ([0-9\\.]+)\"},\n",
    "        {\"Name\":\"val_f1\",\"Regex\":r\"val_f1: ([0-9\\.]+)\"},\n",
    "        {\"Name\":\"val_precision\",\"Regex\":r\"val_precision: ([0-9\\.]+)\"},\n",
    "        {\"Name\":\"val_recall\",\"Regex\":r\"val_recall: ([0-9\\.]+)\"},\n",
    "        {\"Name\":\"val_accuracy\",\"Regex\":r\"val_accuracy: ([0-9\\.]+)\"},\n",
    "    ],\n",
    ")\n",
    "# Creating training-job with name: bestparams-refit-20250815-091227\n",
    "job_name = \"bestparams-refit-\" + time.strftime(\"%Y%m%d-%H%M%S\")\n",
    "estimator.fit(\n",
    "    {\"train\": train_input, \"test\": test_input},\n",
    "    job_name=job_name\n",
    ")"
   ]
  },
  {
   "cell_type": "markdown",
   "id": "bfbff3dc-33cf-4e28-a8d7-28dae89bfdc9",
   "metadata": {},
   "source": [
    "note: see final model deployment in `model_evaluation.ipynb`"
   ]
  }
 ],
 "metadata": {
  "kernelspec": {
   "display_name": "Python 3 (ipykernel)",
   "language": "python",
   "name": "python3"
  },
  "language_info": {
   "codemirror_mode": {
    "name": "ipython",
    "version": 3
   },
   "file_extension": ".py",
   "mimetype": "text/x-python",
   "name": "python",
   "nbconvert_exporter": "python",
   "pygments_lexer": "ipython3",
   "version": "3.12.9"
  }
 },
 "nbformat": 4,
 "nbformat_minor": 5
}
