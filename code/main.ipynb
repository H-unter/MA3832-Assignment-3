{
 "cells": [
  {
   "cell_type": "code",
   "execution_count": 6,
   "id": "832b4543-c435-4c20-abf4-972acc7a3378",
   "metadata": {
    "execution": {
     "iopub.execute_input": "2025-08-13T22:58:01.608159Z",
     "iopub.status.busy": "2025-08-13T22:58:01.607786Z",
     "iopub.status.idle": "2025-08-13T22:58:01.644558Z",
     "shell.execute_reply": "2025-08-13T22:58:01.641209Z",
     "shell.execute_reply.started": "2025-08-13T22:58:01.608127Z"
    }
   },
   "outputs": [
    {
     "data": {
      "text/plain": [
       "'2.245.0'"
      ]
     },
     "execution_count": 6,
     "metadata": {},
     "output_type": "execute_result"
    }
   ],
   "source": [
    "import sagemaker\n",
    "from sagemaker import Session\n",
    "from sagemaker.session import TrainingInput\n",
    "from sagemaker.tensorflow import TensorFlow as tf\n",
    "from sagemaker.tuner import HyperparameterTuner, IntegerParameter, ContinuousParameter\n",
    "import s3fs\n",
    "import numpy as np\n",
    "import os\n",
    "\n",
    "RANDOM_SEED = 0\n",
    "sagemaker.__version__"
   ]
  },
  {
   "cell_type": "code",
   "execution_count": 8,
   "id": "ef827c86-fae9-4009-8752-518a4f19b9c0",
   "metadata": {
    "execution": {
     "iopub.execute_input": "2025-08-13T23:09:23.699745Z",
     "iopub.status.busy": "2025-08-13T23:09:23.698534Z",
     "iopub.status.idle": "2025-08-13T23:09:24.833369Z",
     "shell.execute_reply": "2025-08-13T23:09:24.830324Z",
     "shell.execute_reply.started": "2025-08-13T23:09:23.699715Z"
    }
   },
   "outputs": [
    {
     "name": "stdout",
     "output_type": "stream",
     "text": [
      "S3 Bucket: fsagemaker-ap-southeast-2-838084669510\n"
     ]
    }
   ],
   "source": [
    "fs = s3fs.S3FileSystem()\n",
    "sess = sagemaker.Session()\n",
    "role = sagemaker.get_execution_role()\n",
    "bucket = sess.default_bucket()   # will be sagemaker-ap-southeast-2-838084669510\n",
    "prefix = \"aiornot\"\n",
    "print(f\"S3 Bucket: f{bucket}\")\n",
    "\n",
    "s3_small_train_path = f\"s3://{bucket}/{prefix}/small_train/small_train.npz\"\n",
    "s3_train_path = f\"s3://{bucket}/{prefix}/train/train.npz\"\n",
    "s3_test_path = f\"s3://{bucket}/{prefix}/test/test.npz\"\n",
    "\n",
    "small_train_input = TrainingInput(s3_small_train_path, content_type=\"application/x-npz\")\n",
    "train_input = TrainingInput(s3_train_path, content_type=\"application/x-npz\")\n",
    "test_input = TrainingInput(s3_test_path, content_type=\"application/x-npz\")\n"
   ]
  },
  {
   "cell_type": "code",
   "execution_count": 10,
   "id": "74ad7d93-272f-4642-b85d-60a4d93e2e3d",
   "metadata": {
    "execution": {
     "iopub.execute_input": "2025-08-13T23:12:50.282339Z",
     "iopub.status.busy": "2025-08-13T23:12:50.281744Z",
     "iopub.status.idle": "2025-08-13T23:12:50.420876Z",
     "shell.execute_reply": "2025-08-13T23:12:50.419969Z",
     "shell.execute_reply.started": "2025-08-13T23:12:50.282309Z"
    }
   },
   "outputs": [
    {
     "name": "stdout",
     "output_type": "stream",
     "text": [
      "✅ sagemaker-ap-southeast-2-838084669510/aiornot/small_train/small_train.npz (1395.76 MB)\n",
      "✅ sagemaker-ap-southeast-2-838084669510/aiornot/test/test.npz (2793.03 MB)\n",
      "✅ sagemaker-ap-southeast-2-838084669510/aiornot/train/train.npz (9774.85 MB)\n"
     ]
    }
   ],
   "source": [
    "files_to_check = [\n",
    "    \"sagemaker-ap-southeast-2-838084669510/aiornot/small_train/small_train.npz\",\n",
    "    \"sagemaker-ap-southeast-2-838084669510/aiornot/test/test.npz\",\n",
    "    \"sagemaker-ap-southeast-2-838084669510/aiornot/train/train.npz\"\n",
    "]\n",
    "\n",
    "for file_path in files_to_check:\n",
    "    if fs.exists(file_path):\n",
    "        size = fs.info(file_path)['size'] / (1024*1024)\n",
    "        print(f\"✅ {file_path} ({size:.2f} MB)\")\n",
    "    else:\n",
    "        print(f\"❌ {file_path} - NOT FOUND\")"
   ]
  },
  {
   "cell_type": "code",
   "execution_count": 20,
   "id": "26f94014-1f2f-4021-a1f6-070f22186d77",
   "metadata": {
    "execution": {
     "iopub.execute_input": "2025-08-14T01:17:19.849346Z",
     "iopub.status.busy": "2025-08-14T01:17:19.848725Z",
     "iopub.status.idle": "2025-08-14T01:24:49.843670Z",
     "shell.execute_reply": "2025-08-14T01:24:49.842888Z",
     "shell.execute_reply.started": "2025-08-14T01:17:19.849314Z"
    }
   },
   "outputs": [
    {
     "name": "stderr",
     "output_type": "stream",
     "text": [
      "No finished training job found associated with this estimator. Please make sure this estimator is only used for building workflow config\n"
     ]
    },
    {
     "name": "stdout",
     "output_type": "stream",
     "text": [
      ".......................................................................................!\n"
     ]
    }
   ],
   "source": [
    "# Step 1: define base estimator\n",
    "estimator = tf(\n",
    "    entry_point=\"train.py\",\n",
    "    source_dir=\"src\",   # where train.py and model_def.py live\n",
    "    role=role,\n",
    "    instance_type=\"ml.m5.large\",\n",
    "    instance_count=1,\n",
    "    framework_version=\"2.14\",\n",
    "    py_version=\"py310\",\n",
    "    hyperparameters={\n",
    "        \"epochs\": 1,\n",
    "        \"height\": 512,\n",
    "        \"width\": 512,\n",
    "        \"channels\": 3,\n",
    "        \"model_dir\": \"/opt/ml/model\"\n",
    "    },\n",
    ")\n",
    "\n",
    "# Step 2: define search space\n",
    "hyperparameter_ranges = {\n",
    "    \"learning-rate\": ContinuousParameter(1e-4, 1e-2, scaling_type=\"Logarithmic\"),\n",
    "    \"batch-size\": IntegerParameter(4, 8),\n",
    "    \"dense\": IntegerParameter(64, 256),\n",
    "}\n",
    "\n",
    "# Step 3: define regex to extract val_accuracy from train.py logs\n",
    "metric_definitions = [{\n",
    "    \"Name\": \"val_accuracy\",\n",
    "    \"Regex\": \"val_accuracy: ([0-9\\\\.]+)\"\n",
    "}]\n",
    "\n",
    "# Step 4: set up the tuner\n",
    "tuner = HyperparameterTuner(\n",
    "    estimator=estimator,\n",
    "    objective_metric_name=\"val_accuracy\",\n",
    "    # strategy='Hyperband',\n",
    "    hyperparameter_ranges=hyperparameter_ranges,\n",
    "    metric_definitions=metric_definitions,\n",
    "    max_parallel_jobs=2,\n",
    "    objective_type=\"Maximize\",\n",
    "    early_stopping_type=\"Auto\",\n",
    "    max_jobs=1,\n",
    "    base_tuning_job_name=\"ph-08\"\n",
    ")\n",
    "\n",
    "# Step 5: launch it using small_train.npz for both train + val\n",
    "tuner.fit({\n",
    "    \"train\": small_train_input,\n",
    "    \"test\": test_input,\n",
    "})\n"
   ]
  }
 ],
 "metadata": {
  "kernelspec": {
   "display_name": "Python 3 (ipykernel)",
   "language": "python",
   "name": "python3"
  },
  "language_info": {
   "codemirror_mode": {
    "name": "ipython",
    "version": 3
   },
   "file_extension": ".py",
   "mimetype": "text/x-python",
   "name": "python",
   "nbconvert_exporter": "python",
   "pygments_lexer": "ipython3",
   "version": "3.12.9"
  }
 },
 "nbformat": 4,
 "nbformat_minor": 5
}
