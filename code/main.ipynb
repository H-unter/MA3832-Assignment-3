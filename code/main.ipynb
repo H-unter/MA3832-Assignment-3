{
 "cells": [
  {
   "cell_type": "code",
   "execution_count": 5,
   "id": "832b4543-c435-4c20-abf4-972acc7a3378",
   "metadata": {
    "execution": {
     "iopub.execute_input": "2025-08-14T11:43:44.897545Z",
     "iopub.status.busy": "2025-08-14T11:43:44.896644Z",
     "iopub.status.idle": "2025-08-14T11:43:44.902897Z",
     "shell.execute_reply": "2025-08-14T11:43:44.902019Z",
     "shell.execute_reply.started": "2025-08-14T11:43:44.897517Z"
    }
   },
   "outputs": [
    {
     "data": {
      "text/plain": [
       "'2.245.0'"
      ]
     },
     "execution_count": 5,
     "metadata": {},
     "output_type": "execute_result"
    }
   ],
   "source": [
    "import boto3\n",
    "import sagemaker\n",
    "from sagemaker import Session\n",
    "from sagemaker.session import TrainingInput\n",
    "from sagemaker.tensorflow import TensorFlow as tf\n",
    "from sagemaker.tensorflow import TensorFlowModel\n",
    "from sagemaker.tuner import HyperparameterTuner, IntegerParameter, ContinuousParameter, CategoricalParameter\n",
    "import tensorflow\n",
    "import s3fs\n",
    "import numpy as np\n",
    "\n",
    "RANDOM_SEED = 0\n",
    "sagemaker.__version__"
   ]
  },
  {
   "cell_type": "code",
   "execution_count": 2,
   "id": "ef827c86-fae9-4009-8752-518a4f19b9c0",
   "metadata": {
    "execution": {
     "iopub.execute_input": "2025-08-14T10:41:23.356032Z",
     "iopub.status.busy": "2025-08-14T10:41:23.355155Z",
     "iopub.status.idle": "2025-08-14T10:41:24.175983Z",
     "shell.execute_reply": "2025-08-14T10:41:24.175016Z",
     "shell.execute_reply.started": "2025-08-14T10:41:23.355999Z"
    }
   },
   "outputs": [
    {
     "name": "stdout",
     "output_type": "stream",
     "text": [
      "S3 Bucket: fsagemaker-ap-southeast-2-838084669510\n"
     ]
    }
   ],
   "source": [
    "fs = s3fs.S3FileSystem()\n",
    "sess = sagemaker.Session()\n",
    "role = sagemaker.get_execution_role()\n",
    "bucket = sess.default_bucket()   # will be sagemaker-ap-southeast-2-838084669510\n",
    "prefix = \"aiornot\"\n",
    "print(f\"S3 Bucket: f{bucket}\")\n",
    "\n",
    "s3_small_train_path = f\"s3://{bucket}/{prefix}/small_train/small_train.npz\"\n",
    "s3_train_path = f\"s3://{bucket}/{prefix}/train/train.npz\"\n",
    "s3_test_path = f\"s3://{bucket}/{prefix}/test/test.npz\"\n",
    "\n",
    "small_train_input = TrainingInput(s3_small_train_path, content_type=\"application/x-npz\")\n",
    "train_input = TrainingInput(s3_train_path, content_type=\"application/x-npz\")\n",
    "test_input = TrainingInput(s3_test_path, content_type=\"application/x-npz\")\n"
   ]
  },
  {
   "cell_type": "code",
   "execution_count": 9,
   "id": "26f94014-1f2f-4021-a1f6-070f22186d77",
   "metadata": {
    "execution": {
     "iopub.execute_input": "2025-08-14T04:53:54.583709Z",
     "iopub.status.busy": "2025-08-14T04:53:54.583293Z",
     "iopub.status.idle": "2025-08-14T05:01:30.397472Z",
     "shell.execute_reply": "2025-08-14T05:01:30.396421Z",
     "shell.execute_reply.started": "2025-08-14T04:53:54.583681Z"
    }
   },
   "outputs": [
    {
     "name": "stderr",
     "output_type": "stream",
     "text": [
      "No finished training job found associated with this estimator. Please make sure this estimator is only used for building workflow config\n"
     ]
    },
    {
     "name": "stdout",
     "output_type": "stream",
     "text": [
      "........................................................................................!\n"
     ]
    }
   ],
   "source": [
    "estimator = tf(\n",
    "    entry_point=\"train.py\",\n",
    "    source_dir=\"src\",   # where train.py and model_def.py live\n",
    "    role=role,\n",
    "    # use_spot_instances=True,  # save money\n",
    "    instance_type=\"ml.c5.2xlarge\",\n",
    "    instance_count=1,\n",
    "    framework_version=\"2.14\",\n",
    "    py_version=\"py310\",\n",
    "    hyperparameters={\n",
    "        \"epochs\": 1,\n",
    "        \"height\": 512,\n",
    "        \"width\": 512,\n",
    "        \"channels\": 3,\n",
    "        \"model_dir\": \"/opt/ml/model\"\n",
    "    },\n",
    ")\n",
    "\n",
    "# Step 2: define search space\n",
    "hyperparameter_ranges = {\n",
    "    # numeric / continuous\n",
    "    \"learning-rate\": ContinuousParameter(1e-4, 1e-2, scaling_type=\"Logarithmic\"),\n",
    "    \"dropout-rate\": ContinuousParameter(0.0, 0.5),                 # if use-dropout=true\n",
    "    # integer choices for layer sizes\n",
    "    \"batch-size\": IntegerParameter(4, 8),                         # change range to suit memory\n",
    "    \"conv1-filters\": IntegerParameter(16, 128),\n",
    "    \"conv2-filters\": IntegerParameter(32, 256),\n",
    "    \"dense-units\": IntegerParameter(64, 512),\n",
    "    # categorical choices\n",
    "    \"pooling\": CategoricalParameter([\"max\", \"avg\"]),\n",
    "    \"use-dropout\": CategoricalParameter([\"true\", \"false\"]),\n",
    "}\n",
    "\n",
    "# Step 3: define regex to extract val_accuracy from train.py logs\n",
    "metric_definitions = [{\n",
    "    \"Name\": \"val_accuracy\",\n",
    "    \"Regex\": \"val_accuracy: ([0-9\\\\.]+)\"\n",
    "}]\n",
    "\n",
    "# Step 4: set up the tuner\n",
    "tuner = HyperparameterTuner(\n",
    "    estimator=estimator,\n",
    "    objective_metric_name=\"val_accuracy\",\n",
    "    # strategy='Hyperband',\n",
    "    hyperparameter_ranges=hyperparameter_ranges,\n",
    "    metric_definitions=metric_definitions,\n",
    "    max_parallel_jobs=2,\n",
    "    objective_type=\"Maximize\",\n",
    "    early_stopping_type=\"Auto\",\n",
    "    max_jobs=1,\n",
    "    base_tuning_job_name=\"ph-12\"\n",
    ")\n",
    "\n",
    "# Step 5: launch it using small_train.npz for both train + val\n",
    "tuner.fit({\n",
    "    \"train\": small_train_input,\n",
    "    \"test\": test_input,\n",
    "})\n"
   ]
  },
  {
   "cell_type": "code",
   "execution_count": 13,
   "id": "8b8275de-afe6-4f66-8653-340c6dfc368d",
   "metadata": {
    "execution": {
     "iopub.execute_input": "2025-08-14T05:34:47.234699Z",
     "iopub.status.busy": "2025-08-14T05:34:47.234111Z",
     "iopub.status.idle": "2025-08-14T05:34:52.651723Z",
     "shell.execute_reply": "2025-08-14T05:34:52.650867Z",
     "shell.execute_reply.started": "2025-08-14T05:34:47.234671Z"
    }
   },
   "outputs": [
    {
     "name": "stdout",
     "output_type": "stream",
     "text": [
      "Best training job: ph-12-250814-0453-001-32522441\n",
      "\n",
      "2025-08-14 05:00:38 Starting - Preparing the instances for training\n",
      "2025-08-14 05:00:38 Downloading - Downloading the training image\n",
      "2025-08-14 05:00:38 Training - Training image download completed. Training in progress.\n",
      "2025-08-14 05:00:38 Uploading - Uploading generated training model\n",
      "2025-08-14 05:00:38 Completed - Resource released due to keep alive period expiry\n",
      "Hyperparameters (strings):\n",
      "_tuning_objective_metric : val_accuracy\n",
      "batch-size : 5\n",
      "channels : 3\n",
      "conv1-filters : 18\n",
      "conv2-filters : 225\n",
      "dense-units : 469\n",
      "dropout-rate : 0.2813732220223194\n",
      "epochs : 1\n",
      "height : 512\n",
      "learning-rate : 0.0004852543347744691\n",
      "model_dir : \"s3://sagemaker-ap-southeast-2-838084669510/tensorflow-training-2025-08-14-04-53-54-648/model\"\n",
      "pooling : \"avg\"\n",
      "sagemaker_container_log_level : 20\n",
      "sagemaker_estimator_class_name : \"TensorFlow\"\n",
      "sagemaker_estimator_module : \"sagemaker.tensorflow.estimator\"\n",
      "sagemaker_job_name : \"tensorflow-training-2025-08-14-04-53-54-648\"\n",
      "sagemaker_program : \"train.py\"\n",
      "sagemaker_region : \"ap-southeast-2\"\n",
      "sagemaker_submit_directory : \"s3://sagemaker-ap-southeast-2-838084669510/tensorflow-training-2025-08-14-04-53-54-648/source/sourcedir.tar.gz\"\n",
      "use-dropout : \"true\"\n",
      "width : 512\n",
      "\n",
      "FinalMetricDataList:\n",
      "{'MetricName': 'ObjectiveMetric', 'Value': 0.6715999841690063, 'Timestamp': datetime.datetime(2025, 8, 14, 5, 0, 20, tzinfo=tzlocal())}\n",
      "{'MetricName': 'val_accuracy', 'Value': 0.6715999841690063, 'Timestamp': datetime.datetime(2025, 8, 14, 5, 0, 20, tzinfo=tzlocal())}\n"
     ]
    }
   ],
   "source": [
    "best_job_name = tuner.best_training_job()\n",
    "print(\"Best training job:\", best_job_name)\n",
    "best_estimator = tuner.best_estimator()\n",
    "sm = boto3.client(\"sagemaker\")\n",
    "resp = sm.describe_training_job(TrainingJobName=best_job_name)\n",
    "\n",
    "# hyperparameters (strings)\n",
    "print(\"Hyperparameters (strings):\")\n",
    "for hyperparameter, value in resp.get(\"HyperParameters\", {}).items():\n",
    "    print(hyperparameter, \":\", value)\n",
    "\n",
    "print(\"\\nFinalMetricDataList:\")\n",
    "for m in resp.get(\"FinalMetricDataList\", []):\n",
    "    print(m)\n"
   ]
  },
  {
   "cell_type": "code",
   "execution_count": 7,
   "id": "6a21bde0-8f87-4448-9741-ad41c2215372",
   "metadata": {
    "execution": {
     "iopub.execute_input": "2025-08-14T11:43:54.439089Z",
     "iopub.status.busy": "2025-08-14T11:43:54.438786Z",
     "iopub.status.idle": "2025-08-14T11:43:54.442757Z",
     "shell.execute_reply": "2025-08-14T11:43:54.441983Z",
     "shell.execute_reply.started": "2025-08-14T11:43:54.439066Z"
    }
   },
   "outputs": [],
   "source": [
    "model_name = \"tensorflow-training-2025-08-14-04-53-54-648\"\n",
    "model_s3_path = f\"s3://{bucket}/{model_name}/source/sourcedir.tar.gz\"\n",
    "output_s3 = f\"s3://{bucket}/batch-output/tf-transform-{model_name}/\"\n",
    "input_s3_uri = f\"s3://{bucket}/aiornot/test/test.npz\"\n",
    "endpoint_name = 'model_endpoint'\n",
    "\n",
    "model = TensorFlowModel(\n",
    "    model_data=model_s3_path,\n",
    "    role=role,\n",
    "    entry_point=\"inference.py\",\n",
    "    souce_dir=\"src\",\n",
    "    sagemaker_session=sess\n",
    ")\n",
    "\n",
    "transformer = model.transformer(\n",
    "    instance_count=1,\n",
    "    instance_type=\"ml.r5.4xlarge\",   # memory-optimized; see notes below about sizing\n",
    "    output_path=output_s3,\n",
    ")\n",
    "\n",
    "transformer.transform(\n",
    "    data=input_s3_uri,\n",
    "    data_type=\"S3Prefix\",               # use S3Prefix for a single object URI too\n",
    "    content_type=\"application/octet-stream\",\n",
    "    split_type=\"None\",                  # send the whole file as one request to the container\n",
    "    wait=True,\n",
    "    logs=True\n",
    ")\n",
    "\n",
    "transformer.wait()\n",
    "print(\"Batch transform finished. Outputs in:\", output_s3)\n"
   ]
  }
 ],
 "metadata": {
  "kernelspec": {
   "display_name": "Python 3 (ipykernel)",
   "language": "python",
   "name": "python3"
  },
  "language_info": {
   "codemirror_mode": {
    "name": "ipython",
    "version": 3
   },
   "file_extension": ".py",
   "mimetype": "text/x-python",
   "name": "python",
   "nbconvert_exporter": "python",
   "pygments_lexer": "ipython3",
   "version": "3.12.9"
  }
 },
 "nbformat": 4,
 "nbformat_minor": 5
}
