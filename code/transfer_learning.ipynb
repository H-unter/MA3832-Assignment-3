{
 "cells": [
  {
   "cell_type": "markdown",
   "id": "8bac26c7-ad5b-44aa-9f56-25cf13eed272",
   "metadata": {
    "execution": {
     "iopub.execute_input": "2025-08-15T12:05:14.663916Z",
     "iopub.status.busy": "2025-08-15T12:05:14.663078Z",
     "iopub.status.idle": "2025-08-15T12:05:14.668679Z",
     "shell.execute_reply": "2025-08-15T12:05:14.667801Z",
     "shell.execute_reply.started": "2025-08-15T12:05:14.663885Z"
    }
   },
   "source": [
    "# Imports"
   ]
  },
  {
   "cell_type": "code",
   "execution_count": 1,
   "id": "14a16e92-286a-4621-8613-f9e7ce5dbac5",
   "metadata": {
    "execution": {
     "iopub.execute_input": "2025-08-16T04:11:39.388455Z",
     "iopub.status.busy": "2025-08-16T04:11:39.388094Z",
     "iopub.status.idle": "2025-08-16T04:11:46.859925Z",
     "shell.execute_reply": "2025-08-16T04:11:46.859229Z",
     "shell.execute_reply.started": "2025-08-16T04:11:39.388406Z"
    }
   },
   "outputs": [
    {
     "name": "stdout",
     "output_type": "stream",
     "text": [
      "sagemaker.config INFO - Not applying SDK defaults from location: /etc/xdg/sagemaker/config.yaml\n",
      "sagemaker.config INFO - Not applying SDK defaults from location: /home/sagemaker-user/.config/sagemaker/config.yaml\n"
     ]
    },
    {
     "name": "stderr",
     "output_type": "stream",
     "text": [
      "2025-08-16 04:11:42.602547: I tensorflow/core/platform/cpu_feature_guard.cc:210] This TensorFlow binary is optimized to use available CPU instructions in performance-critical operations.\n",
      "To enable the following instructions: SSE4.1 SSE4.2 AVX AVX2 AVX512F FMA, in other operations, rebuild TensorFlow with the appropriate compiler flags.\n"
     ]
    },
    {
     "data": {
      "text/plain": [
       "'2.245.0'"
      ]
     },
     "execution_count": 1,
     "metadata": {},
     "output_type": "execute_result"
    }
   ],
   "source": [
    "import boto3\n",
    "import sagemaker\n",
    "from sagemaker import Session\n",
    "from sagemaker.session import TrainingInput\n",
    "from sagemaker.tensorflow import TensorFlow as tf\n",
    "from sagemaker.tensorflow import TensorFlowModel\n",
    "from sagemaker.tuner import HyperparameterTuner, IntegerParameter, ContinuousParameter, CategoricalParameter\n",
    "from sagemaker.serializers import JSONSerializer\n",
    "from sagemaker.deserializers import JSONDeserializer\n",
    "import tensorflow\n",
    "import s3fs\n",
    "import numpy as np\n",
    "import json\n",
    "import time\n",
    "RANDOM_SEED = 0\n",
    "sagemaker.__version__"
   ]
  },
  {
   "cell_type": "markdown",
   "id": "0cf60bbe-5392-45e9-a866-570ebf4a6a83",
   "metadata": {},
   "source": [
    "# Sagemaker Initialization"
   ]
  },
  {
   "cell_type": "code",
   "execution_count": 20,
   "id": "fe38178a-8ecc-4f15-b6a9-96ef688c701e",
   "metadata": {
    "execution": {
     "iopub.execute_input": "2025-08-16T08:35:17.525580Z",
     "iopub.status.busy": "2025-08-16T08:35:17.524854Z",
     "iopub.status.idle": "2025-08-16T08:35:17.987226Z",
     "shell.execute_reply": "2025-08-16T08:35:17.986514Z",
     "shell.execute_reply.started": "2025-08-16T08:35:17.525551Z"
    }
   },
   "outputs": [
    {
     "name": "stdout",
     "output_type": "stream",
     "text": [
      "S3 Bucket: fsagemaker-ap-southeast-2-838084669510\n"
     ]
    }
   ],
   "source": [
    "fs = s3fs.S3FileSystem()\n",
    "sess = sagemaker.Session()\n",
    "role = sagemaker.get_execution_role()\n",
    "s3 = boto3.client(\"s3\")\n",
    "bucket = sess.default_bucket()   # will be sagemaker-ap-southeast-2-838084669510\n",
    "prefix = \"aiornot\"\n",
    "print(f\"S3 Bucket: f{bucket}\")\n",
    "\n",
    "s3_train_path = f\"s3://{bucket}/{prefix}/train/train.npz\"\n",
    "s3_small_train_path = f\"s3://{bucket}/{prefix}/small_train/small_train.npz\"\n",
    "\n",
    "s3_test_path = f\"s3://{bucket}/{prefix}/test/test.npz\"\n",
    "s3_holdout_test_path = f\"s3://{bucket}/{prefix}/holdout_test/holdout_test.npz\"\n",
    "s3_output_location = f\"s3://{bucket}/{prefix}/model_output\"\n",
    "\n",
    "train_input = TrainingInput(s3_train_path, content_type=\"application/x-npz\")\n",
    "test_input = TrainingInput(s3_test_path, content_type=\"application/x-npz\")"
   ]
  },
  {
   "cell_type": "markdown",
   "id": "ba2da928-0951-461f-a44b-6e2e094fb2d1",
   "metadata": {},
   "source": [
    "# Transfer Learning Configuration"
   ]
  },
  {
   "cell_type": "code",
   "execution_count": null,
   "id": "9e73b320-6bb0-48f4-b1fc-3a9a36d5b8cc",
   "metadata": {},
   "outputs": [],
   "source": [
    "metric_definitions = [\n",
    "    {\"Name\": \"val_auc\",       \"Regex\": \"val_auc: ([0-9\\\\.]+)\"},\n",
    "    {\"Name\": \"val_f1\",        \"Regex\": \"val_f1: ([0-9\\\\.]+)\"},\n",
    "    {\"Name\": \"val_precision\", \"Regex\": \"val_precision: ([0-9\\\\.]+)\"},\n",
    "    {\"Name\": \"val_recall\",    \"Regex\": \"val_recall: ([0-9\\\\.]+)\"},\n",
    "    {\"Name\": \"val_accuracy\",  \"Regex\": \"val_accuracy: ([0-9\\\\.]+)\"},\n",
    "]\n",
    "\n",
    "estimator = tf(\n",
    "    entry_point=\"train_transfer.py\",\n",
    "    source_dir=\"src\",\n",
    "    role=role,\n",
    "    instance_type=\"ml.c5.2xlarge\",\n",
    "    instance_count=1,\n",
    "    framework_version=\"2.14\",\n",
    "    py_version=\"py310\",\n",
    "    output_path=f\"s3://{bucket}/model_output\",\n",
    "    hyperparameters={\n",
    "        \"epochs\": 3,\n",
    "        \"height\": 224,\n",
    "        \"width\": 224,\n",
    "        \"channels\": 3,\n",
    "        \"batch-size\": 1,\n",
    "        \"learning-rate\": 5e-5, # snall to allow for fine tuning\n",
    "        \"dropout-rate\": 0.2,\n",
    "        \"unfreeze-fraction\": 0.10,\n",
    "    },\n",
    "    metric_definitions=metric_definitions,\n",
    ")\n",
    "\n",
    "job_name = f\"transfer-learning-{time.strftime('%Y%m%d-%H%M%S')}\"\n",
    "estimator.fit({\"train\": train_input, \"test\": test_input}, job_name=job_name)"
   ]
  },
  {
   "cell_type": "markdown",
   "id": "03d6f04b-6772-4515-8ec6-9edf0089a052",
   "metadata": {},
   "source": [
    "note: see final model deployment in `model_evaluation.ipynb`"
   ]
  }
 ],
 "metadata": {
  "kernelspec": {
   "display_name": "Python 3 (ipykernel)",
   "language": "python",
   "name": "python3"
  },
  "language_info": {
   "codemirror_mode": {
    "name": "ipython",
    "version": 3
   },
   "file_extension": ".py",
   "mimetype": "text/x-python",
   "name": "python",
   "nbconvert_exporter": "python",
   "pygments_lexer": "ipython3",
   "version": "3.12.9"
  }
 },
 "nbformat": 4,
 "nbformat_minor": 5
}
